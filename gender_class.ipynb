{
 "cells": [
  {
   "cell_type": "code",
   "execution_count": 16,
   "metadata": {},
   "outputs": [],
   "source": [
    "import numpy as np\n",
    "import pandas as pd\n",
    "import matplotlib.pyplot as plt\n",
    "from tensorflow.keras.layers import Dense,Conv2D,MaxPool2D,Dropout,Flatten,BatchNormalization,Input\n",
    "from tensorflow.keras.preprocessing.image import ImageDataGenerator\n",
    "from tensorflow.keras.models import Model\n",
    "import warnings\n",
    "import seaborn as sb\n",
    "from tensorflow.keras.models import save_model,load_model\n",
    "warnings.filterwarnings('ignore')"
   ]
  },
  {
   "cell_type": "code",
   "execution_count": 17,
   "metadata": {},
   "outputs": [
    {
     "name": "stdout",
     "output_type": "stream",
     "text": [
      "Defaulting to user installation because normal site-packages is not writeable\n",
      "Requirement already satisfied: seaborn in c:\\users\\hp\\appdata\\roaming\\python\\python312\\site-packages (0.13.2)\n",
      "Requirement already satisfied: numpy!=1.24.0,>=1.20 in c:\\users\\hp\\appdata\\roaming\\python\\python312\\site-packages (from seaborn) (1.26.4)\n",
      "Requirement already satisfied: pandas>=1.2 in c:\\users\\hp\\appdata\\roaming\\python\\python312\\site-packages (from seaborn) (2.2.2)\n",
      "Requirement already satisfied: matplotlib!=3.6.1,>=3.4 in c:\\users\\hp\\appdata\\roaming\\python\\python312\\site-packages (from seaborn) (3.9.1)\n",
      "Requirement already satisfied: contourpy>=1.0.1 in c:\\users\\hp\\appdata\\roaming\\python\\python312\\site-packages (from matplotlib!=3.6.1,>=3.4->seaborn) (1.2.1)\n",
      "Requirement already satisfied: cycler>=0.10 in c:\\users\\hp\\appdata\\roaming\\python\\python312\\site-packages (from matplotlib!=3.6.1,>=3.4->seaborn) (0.12.1)\n",
      "Requirement already satisfied: fonttools>=4.22.0 in c:\\users\\hp\\appdata\\roaming\\python\\python312\\site-packages (from matplotlib!=3.6.1,>=3.4->seaborn) (4.53.1)\n",
      "Requirement already satisfied: kiwisolver>=1.3.1 in c:\\users\\hp\\appdata\\roaming\\python\\python312\\site-packages (from matplotlib!=3.6.1,>=3.4->seaborn) (1.4.5)\n",
      "Requirement already satisfied: packaging>=20.0 in c:\\users\\hp\\appdata\\roaming\\python\\python312\\site-packages (from matplotlib!=3.6.1,>=3.4->seaborn) (24.1)\n",
      "Requirement already satisfied: pillow>=8 in c:\\users\\hp\\appdata\\roaming\\python\\python312\\site-packages (from matplotlib!=3.6.1,>=3.4->seaborn) (10.4.0)\n",
      "Requirement already satisfied: pyparsing>=2.3.1 in c:\\users\\hp\\appdata\\roaming\\python\\python312\\site-packages (from matplotlib!=3.6.1,>=3.4->seaborn) (3.1.2)\n",
      "Requirement already satisfied: python-dateutil>=2.7 in c:\\users\\hp\\appdata\\roaming\\python\\python312\\site-packages (from matplotlib!=3.6.1,>=3.4->seaborn) (2.9.0.post0)\n",
      "Requirement already satisfied: pytz>=2020.1 in c:\\users\\hp\\appdata\\roaming\\python\\python312\\site-packages (from pandas>=1.2->seaborn) (2024.1)\n",
      "Requirement already satisfied: tzdata>=2022.7 in c:\\users\\hp\\appdata\\roaming\\python\\python312\\site-packages (from pandas>=1.2->seaborn) (2024.1)\n",
      "Requirement already satisfied: six>=1.5 in c:\\users\\hp\\appdata\\roaming\\python\\python312\\site-packages (from python-dateutil>=2.7->matplotlib!=3.6.1,>=3.4->seaborn) (1.16.0)\n",
      "Note: you may need to restart the kernel to use updated packages.\n"
     ]
    }
   ],
   "source": [
    "pip install seaborn"
   ]
  },
  {
   "cell_type": "code",
   "execution_count": 18,
   "metadata": {},
   "outputs": [],
   "source": [
    "train=ImageDataGenerator(rescale=1/255.0)\n",
    "validation=ImageDataGenerator(rescale=1/255.0)"
   ]
  },
  {
   "cell_type": "code",
   "execution_count": 19,
   "metadata": {},
   "outputs": [
    {
     "name": "stdout",
     "output_type": "stream",
     "text": [
      "Found 47009 images belonging to 2 classes.\n",
      "Found 11649 images belonging to 2 classes.\n"
     ]
    }
   ],
   "source": [
    "train_dataset=train.flow_from_directory('D:\\ezitech\\Training',target_size=(70,80),batch_size=3,class_mode='binary')\n",
    "validation_dataset=train.flow_from_directory('D:\\ezitech\\Validation',target_size=(70,80),batch_size=3,class_mode='binary')"
   ]
  },
  {
   "cell_type": "code",
   "execution_count": 20,
   "metadata": {},
   "outputs": [],
   "source": [
    "i=Input(shape=train_dataset.image_shape)\n",
    "x=Conv2D(32,(3,3),activation='relu',padding='same',strides=1)(i)\n",
    "x=BatchNormalization()(x)\n",
    "x=Conv2D(32,(3,3),activation='relu',padding='same',strides=1)(x)\n",
    "x=BatchNormalization()(x)\n",
    "x=MaxPool2D(pool_size=(2,2))(x)\n",
    "x=Conv2D(64,(3,3),activation='relu',padding='same',strides=1)(x)\n",
    "x=BatchNormalization()(x)\n",
    "x=Conv2D(64,(3,3),activation='relu',padding='same',strides=1)(x)\n",
    "x=BatchNormalization()(x)\n",
    "x=MaxPool2D(pool_size=(2,2))(x)\n",
    "x=Conv2D(128,(3,3),activation='relu',padding='same',strides=2)(x)\n",
    "x=BatchNormalization()(x)\n",
    "x=Conv2D(128,(3,3),activation='relu',padding='same',strides=2)(x)\n",
    "x=BatchNormalization()(x)\n",
    "x=MaxPool2D(pool_size=(2,2))(x)\n",
    "x=Flatten()(x)"
   ]
  },
  {
   "cell_type": "code",
   "execution_count": 21,
   "metadata": {},
   "outputs": [],
   "source": [
    "k=1\n",
    "x=Dropout(0.2)(x)\n",
    "x=Dense(1024,activation='relu')(x)\n",
    "x=Dense(k,activation='sigmoid')(x)\n",
    "model=Model(i,x)"
   ]
  },
  {
   "cell_type": "code",
   "execution_count": 22,
   "metadata": {},
   "outputs": [],
   "source": [
    "model.compile(loss='binary_crossentropy',optimizer='adam',metrics=['accuracy'])"
   ]
  },
  {
   "cell_type": "code",
   "execution_count": 23,
   "metadata": {},
   "outputs": [
    {
     "name": "stdout",
     "output_type": "stream",
     "text": [
      "Epoch 1/12\n",
      "\u001b[1m4500/4500\u001b[0m \u001b[32m━━━━━━━━━━━━━━━━━━━━\u001b[0m\u001b[37m\u001b[0m \u001b[1m497s\u001b[0m 109ms/step - accuracy: 0.8302 - loss: 0.4538 - val_accuracy: 0.8899 - val_loss: 0.2589\n",
      "Epoch 2/12\n",
      "\u001b[1m4500/4500\u001b[0m \u001b[32m━━━━━━━━━━━━━━━━━━━━\u001b[0m\u001b[37m\u001b[0m \u001b[1m437s\u001b[0m 97ms/step - accuracy: 0.9238 - loss: 0.2056 - val_accuracy: 0.9196 - val_loss: 0.2177\n",
      "Epoch 3/12\n",
      "\u001b[1m4500/4500\u001b[0m \u001b[32m━━━━━━━━━━━━━━━━━━━━\u001b[0m\u001b[37m\u001b[0m \u001b[1m429s\u001b[0m 95ms/step - accuracy: 0.9325 - loss: 0.1809 - val_accuracy: 0.9347 - val_loss: 0.1667\n",
      "Epoch 4/12\n",
      "\u001b[1m4500/4500\u001b[0m \u001b[32m━━━━━━━━━━━━━━━━━━━━\u001b[0m\u001b[37m\u001b[0m \u001b[1m219s\u001b[0m 49ms/step - accuracy: 0.9439 - loss: 0.1668 - val_accuracy: 0.9445 - val_loss: 0.1515\n",
      "Epoch 5/12\n",
      "\u001b[1m4500/4500\u001b[0m \u001b[32m━━━━━━━━━━━━━━━━━━━━\u001b[0m\u001b[37m\u001b[0m \u001b[1m389s\u001b[0m 86ms/step - accuracy: 0.9510 - loss: 0.1459 - val_accuracy: 0.9433 - val_loss: 0.1441\n",
      "Epoch 6/12\n",
      "\u001b[1m4500/4500\u001b[0m \u001b[32m━━━━━━━━━━━━━━━━━━━━\u001b[0m\u001b[37m\u001b[0m \u001b[1m399s\u001b[0m 89ms/step - accuracy: 0.9510 - loss: 0.1368 - val_accuracy: 0.9348 - val_loss: 0.1767\n",
      "Epoch 7/12\n",
      "\u001b[1m4500/4500\u001b[0m \u001b[32m━━━━━━━━━━━━━━━━━━━━\u001b[0m\u001b[37m\u001b[0m \u001b[1m415s\u001b[0m 92ms/step - accuracy: 0.9545 - loss: 0.1261 - val_accuracy: 0.9580 - val_loss: 0.1116\n",
      "Epoch 8/12\n",
      "\u001b[1m4500/4500\u001b[0m \u001b[32m━━━━━━━━━━━━━━━━━━━━\u001b[0m\u001b[37m\u001b[0m \u001b[1m239s\u001b[0m 53ms/step - accuracy: 0.9596 - loss: 0.1131 - val_accuracy: 0.9593 - val_loss: 0.1099\n",
      "Epoch 9/12\n",
      "\u001b[1m4500/4500\u001b[0m \u001b[32m━━━━━━━━━━━━━━━━━━━━\u001b[0m\u001b[37m\u001b[0m \u001b[1m508s\u001b[0m 113ms/step - accuracy: 0.9562 - loss: 0.1228 - val_accuracy: 0.9581 - val_loss: 0.1121\n",
      "Epoch 10/12\n",
      "\u001b[1m4500/4500\u001b[0m \u001b[32m━━━━━━━━━━━━━━━━━━━━\u001b[0m\u001b[37m\u001b[0m \u001b[1m487s\u001b[0m 108ms/step - accuracy: 0.9592 - loss: 0.1131 - val_accuracy: 0.9552 - val_loss: 0.1208\n",
      "Epoch 11/12\n",
      "\u001b[1m4500/4500\u001b[0m \u001b[32m━━━━━━━━━━━━━━━━━━━━\u001b[0m\u001b[37m\u001b[0m \u001b[1m435s\u001b[0m 97ms/step - accuracy: 0.9628 - loss: 0.1024 - val_accuracy: 0.9545 - val_loss: 0.1201\n",
      "Epoch 12/12\n",
      "\u001b[1m4500/4500\u001b[0m \u001b[32m━━━━━━━━━━━━━━━━━━━━\u001b[0m\u001b[37m\u001b[0m \u001b[1m290s\u001b[0m 64ms/step - accuracy: 0.9648 - loss: 0.1039 - val_accuracy: 0.9650 - val_loss: 0.0954\n"
     ]
    },
    {
     "data": {
      "text/plain": [
       "<keras.src.callbacks.history.History at 0x1ae5ad7a3f0>"
      ]
     },
     "execution_count": 23,
     "metadata": {},
     "output_type": "execute_result"
    }
   ],
   "source": [
    "model.fit(train_dataset,steps_per_epoch=4500,validation_data=validation_dataset,epochs=12)"
   ]
  },
  {
   "cell_type": "code",
   "execution_count": 24,
   "metadata": {},
   "outputs": [
    {
     "name": "stderr",
     "output_type": "stream",
     "text": [
      "WARNING:absl:You are saving your model as an HDF5 file via `model.save()` or `keras.saving.save_model(model)`. This file format is considered legacy. We recommend using instead the native Keras format, e.g. `model.save('my_model.keras')` or `keras.saving.save_model(model, 'my_model.keras')`. \n"
     ]
    }
   ],
   "source": [
    "save_model(model,'D:\\\\ezitech\\\\model1.h5')"
   ]
  },
  {
   "cell_type": "code",
   "execution_count": 25,
   "metadata": {},
   "outputs": [],
   "source": [
    "model_dict=model.history.history"
   ]
  },
  {
   "cell_type": "code",
   "execution_count": 26,
   "metadata": {},
   "outputs": [],
   "source": [
    "from tensorflow.keras.preprocessing.image import load_img,img_to_array\n",
    "from tensorflow.keras.models import load_model\n",
    "import numpy as np"
   ]
  },
  {
   "cell_type": "code",
   "execution_count": 27,
   "metadata": {},
   "outputs": [
    {
     "name": "stderr",
     "output_type": "stream",
     "text": [
      "WARNING:absl:Compiled the loaded model, but the compiled metrics have yet to be built. `model.compile_metrics` will be empty until you train or evaluate the model.\n"
     ]
    }
   ],
   "source": [
    "model=load_model('D:\\\\ezitech\\\\model.h5')"
   ]
  },
  {
   "cell_type": "code",
   "execution_count": 32,
   "metadata": {},
   "outputs": [],
   "source": [
    "img_path='D:/ezitech/063477.jpg.jpg'"
   ]
  },
  {
   "cell_type": "code",
   "execution_count": 33,
   "metadata": {},
   "outputs": [],
   "source": [
    "def male_or_female(img_path,model):\n",
    "    img=load_img(img_path,target_size=(70,80))\n",
    "    img_array=img_to_array(img)\n",
    "    img_array=img_array/255.0\n",
    "    new_array_with_batch_dimension=np.expand_dims(img_array,axis=0)\n",
    "    output=model.predict(new_array_with_batch_dimension)\n",
    "    output=np.round(output.flatten())[0]\n",
    "    val=\"Male\" if output==1 else 'Female'\n",
    "    return val"
   ]
  },
  {
   "cell_type": "code",
   "execution_count": 34,
   "metadata": {},
   "outputs": [
    {
     "name": "stdout",
     "output_type": "stream",
     "text": [
      "\u001b[1m1/1\u001b[0m \u001b[32m━━━━━━━━━━━━━━━━━━━━\u001b[0m\u001b[37m\u001b[0m \u001b[1m0s\u001b[0m 69ms/step\n"
     ]
    },
    {
     "data": {
      "text/plain": [
       "'Male'"
      ]
     },
     "execution_count": 34,
     "metadata": {},
     "output_type": "execute_result"
    }
   ],
   "source": [
    "male_or_female(img_path,model)"
   ]
  }
 ],
 "metadata": {
  "kernelspec": {
   "display_name": "Python 3",
   "language": "python",
   "name": "python3"
  },
  "language_info": {
   "codemirror_mode": {
    "name": "ipython",
    "version": 3
   },
   "file_extension": ".py",
   "mimetype": "text/x-python",
   "name": "python",
   "nbconvert_exporter": "python",
   "pygments_lexer": "ipython3",
   "version": "3.12.4"
  }
 },
 "nbformat": 4,
 "nbformat_minor": 2
}
